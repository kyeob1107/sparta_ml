{
 "cells": [
  {
   "cell_type": "code",
   "execution_count": 4,
   "metadata": {},
   "outputs": [],
   "source": [
    "# 데이터 출처: https://archive.ics.uci.edu/dataset/222/bank+marketing\n",
    "# Github 출처: https://github.com/uci-ml-repo/ucimlrepo\n",
    "\n",
    "#기본 모듈 불러오기 \n",
    "import pandas as pd\n",
    "import numpy as np\n",
    "import matplotlib.pyplot as plt\n",
    "import seaborn as sns\n",
    "from sklearn.model_selection import train_test_split\n",
    "\n",
    "# # warning을 모두 무시하는 것은 좋지 않으나 과제 수행을 쉽게할 수 있도록 무시설정\n",
    "# import warnings\n",
    "# warnings.filterwarnings(action='ignore')"
   ]
  },
  {
   "cell_type": "markdown",
   "metadata": {},
   "source": [
    "# 전체 계획\n",
    "1. 데이터 로드 & 분리\n",
    "    * train / test 데이터 분리\n",
    "2. 탐색적 데이터 분석(EDA)\n",
    "    * 분포확인 & 이상치 확인\n",
    "3. 데이터 전처리\n",
    "    * 데이터 비율 맞춰주기 위해 Oversampleing\n",
    "        - 단, SMOTE 알고리즘은 수치형 데이터에만 쓸 수 있으니\n",
    "        - SMOTE를 범주형 데이터에도 쓸 수 있게 확장한 SMOTENC를 사용\n",
    "    * 결측치 처리 -> 존재X\n",
    "        - 수치형: \n",
    "        - 범주형: \n",
    "        - 삭제 : \n",
    "    * 전처리\n",
    "        - 수치형: \n",
    "        - 범주형\n",
    "            - 레이블 인코딩: \n",
    "            - 원- 핫 인코딩: \n",
    "    \n",
    "4. 모델 수립\n",
    "5. 평가"
   ]
  },
  {
   "cell_type": "markdown",
   "metadata": {},
   "source": [
    "# 1. 데이터 로드 & 분리"
   ]
  },
  {
   "cell_type": "markdown",
   "metadata": {},
   "source": [
    "## 문제1: 라이브러리를 통해 데이터 불러오기\n",
    "- 다음코드는 데이터를 불러오고 df 변수명에 저장하는 코드입니다.\n",
    "- github 문서를 읽고 데이터를 요청하여 로컬환경에 저장해보세요"
   ]
  },
  {
   "cell_type": "code",
   "execution_count": 5,
   "metadata": {},
   "outputs": [],
   "source": [
    "# 이거 쓰면 좀 렉걸리는 듯해서 첫 실행제외하고는 굳이 할 필요없어서 주석처리해둠\n",
    "# # df2 = pd.read_csv('F:/sparta_python/ML/bank+marketing/bank-full.csv', sep=';') # 파일로 다운받아서 불러오는 경우\n",
    "# # display(df2.head(3))\n",
    "# from ucimlrepo import fetch_ucirepo, list_available_datasets\n",
    "# # check which datasets can be imported\n",
    "# # list_available_datasets()\n",
    "# # import dataset\n",
    "# Bank_Marketing = fetch_ucirepo(id=222)\n",
    "# df = Bank_Marketing.data.original\n",
    "# # df = pd.DataFrame(data=Bank_Marketing.data.original)\n",
    "# df.to_csv('./bank_marketing.csv')\n",
    "\n",
    "# # 확인용\n",
    "# display(df.head(3)) #단 설명에 있는 컬럼과 올려진 파일 컬럼이 day_of_week로 설명되어있는게 파일에는 day로 되어있음"
   ]
  },
  {
   "cell_type": "markdown",
   "metadata": {},
   "source": [
    "## 데이터 train과 test로 분리"
   ]
  },
  {
   "cell_type": "code",
   "execution_count": 6,
   "metadata": {},
   "outputs": [
    {
     "name": "stdout",
     "output_type": "stream",
     "text": [
      "(31647, 17) (13564, 17) (31647, 1) (13564, 1)\n"
     ]
    }
   ],
   "source": [
    "# 데이터 불러오기 \n",
    "df = pd.read_csv('./bank_marketing.csv') # 라이브러리를 통해 불러온 데이터를 저장하여 다시 파일로써 불러오는 것\n",
    "# df2 = pd.read_csv('F:/sparta_python/ML/bank+marketing/bank-full.csv', sep=';') # 다운받은 데이터로 확인하는 법\n",
    "\n",
    "# 우선 X와 y분리\n",
    "X = df.drop(columns=['y']) # 제거 된채로 원본 df에 저장되는게 아님\n",
    "y = df[['y']]\n",
    "\n",
    "# 학습과 평가 위해서 train과 test로 나눠줌\n",
    "X_train, X_test, y_train, y_test = train_test_split(X, y, test_size = 0.3, random_state=42, stratify=y)\n",
    "\n",
    "# 수치형 데이터와 범주형 데이터 분류해서 저장\n",
    "numeric_col = ['age','balance','day_of_week','duration','campaign','pdays','previous']\n",
    "category_col = ['job','marital','education','default','housing','loan','contact','month','poutcome']\n",
    "\n",
    "# 분리한 데이터 크기 확인\n",
    "print(X_train.shape, X_test.shape, y_train.shape, y_test.shape)"
   ]
  },
  {
   "cell_type": "markdown",
   "metadata": {},
   "source": [
    "# 2. EDA"
   ]
  },
  {
   "cell_type": "markdown",
   "metadata": {},
   "source": [
    "### 결측치 확인\n",
    "train데이터 기준으로 아래에서 확인해본 결과\n",
    "- contact: 9100개, poutcome: 25917개\n",
    "- job: 206개, education: 1314개 \n",
    "- pdays: NaN값은 없음, -1로 표기된 것보고 결측치라 설명한듯?(이전 캠페인에서 연락하지 않은 경우) 25912개 존재\n",
    "    \n",
    "관련하여서 어떻게 처리해줄지는 심화부분에서 고민해보기"
   ]
  },
  {
   "cell_type": "code",
   "execution_count": 7,
   "metadata": {},
   "outputs": [
    {
     "name": "stdout",
     "output_type": "stream",
     "text": [
      "<class 'pandas.core.frame.DataFrame'>\n",
      "Index: 31647 entries, 13382 to 3184\n",
      "Data columns (total 17 columns):\n",
      " #   Column       Non-Null Count  Dtype \n",
      "---  ------       --------------  ----- \n",
      " 0   Unnamed: 0   31647 non-null  int64 \n",
      " 1   age          31647 non-null  int64 \n",
      " 2   job          31441 non-null  object\n",
      " 3   marital      31647 non-null  object\n",
      " 4   education    30333 non-null  object\n",
      " 5   default      31647 non-null  object\n",
      " 6   balance      31647 non-null  int64 \n",
      " 7   housing      31647 non-null  object\n",
      " 8   loan         31647 non-null  object\n",
      " 9   contact      22547 non-null  object\n",
      " 10  day_of_week  31647 non-null  int64 \n",
      " 11  month        31647 non-null  object\n",
      " 12  duration     31647 non-null  int64 \n",
      " 13  campaign     31647 non-null  int64 \n",
      " 14  pdays        31647 non-null  int64 \n",
      " 15  previous     31647 non-null  int64 \n",
      " 16  poutcome     5730 non-null   object\n",
      "dtypes: int64(8), object(9)\n",
      "memory usage: 4.3+ MB\n"
     ]
    },
    {
     "data": {
      "text/plain": [
       "Unnamed: 0         0\n",
       "age                0\n",
       "job              206\n",
       "marital            0\n",
       "education       1314\n",
       "default            0\n",
       "balance            0\n",
       "housing            0\n",
       "loan               0\n",
       "contact         9100\n",
       "day_of_week        0\n",
       "month              0\n",
       "duration           0\n",
       "campaign           0\n",
       "pdays              0\n",
       "previous           0\n",
       "poutcome       25917\n",
       "dtype: int64"
      ]
     },
     "execution_count": 7,
     "metadata": {},
     "output_type": "execute_result"
    }
   ],
   "source": [
    "X_train.info()\n",
    "X_train.isna().sum()"
   ]
  },
  {
   "cell_type": "code",
   "execution_count": 8,
   "metadata": {},
   "outputs": [
    {
     "data": {
      "text/plain": [
       "poutcome\n",
       "failure    3378\n",
       "other      1301\n",
       "success    1051\n",
       "Name: count, dtype: int64"
      ]
     },
     "execution_count": 8,
     "metadata": {},
     "output_type": "execute_result"
    }
   ],
   "source": [
    "X_train['poutcome'].value_counts()"
   ]
  },
  {
   "cell_type": "code",
   "execution_count": 9,
   "metadata": {},
   "outputs": [
    {
     "data": {
      "text/plain": [
       "5730"
      ]
     },
     "execution_count": 9,
     "metadata": {},
     "output_type": "execute_result"
    }
   ],
   "source": [
    "X_train['poutcome'].count()"
   ]
  },
  {
   "cell_type": "code",
   "execution_count": 10,
   "metadata": {},
   "outputs": [],
   "source": [
    "# X_test.info()\n",
    "# display(X_test.describe(include='all'))\n",
    "# X_test.isna().sum() # 결측치는 없음"
   ]
  },
  {
   "cell_type": "code",
   "execution_count": 11,
   "metadata": {},
   "outputs": [
    {
     "data": {
      "text/plain": [
       "contact\n",
       "cellular     20517\n",
       "telephone     2030\n",
       "Name: count, dtype: int64"
      ]
     },
     "execution_count": 11,
     "metadata": {},
     "output_type": "execute_result"
    }
   ],
   "source": [
    "X_train['contact'].value_counts()"
   ]
  },
  {
   "cell_type": "code",
   "execution_count": 12,
   "metadata": {},
   "outputs": [
    {
     "data": {
      "text/plain": [
       "Unnamed: 0     31647\n",
       "age            31647\n",
       "job            31441\n",
       "marital        31647\n",
       "education      30333\n",
       "default        31647\n",
       "balance        31647\n",
       "housing        31647\n",
       "loan           31647\n",
       "contact        22547\n",
       "day_of_week    31647\n",
       "month          31647\n",
       "duration       31647\n",
       "campaign       31647\n",
       "pdays          31647\n",
       "previous       31647\n",
       "poutcome        5730\n",
       "dtype: int64"
      ]
     },
     "execution_count": 12,
     "metadata": {},
     "output_type": "execute_result"
    }
   ],
   "source": [
    "X_train.shape\n",
    "X_train.count()"
   ]
  },
  {
   "cell_type": "code",
   "execution_count": 13,
   "metadata": {},
   "outputs": [
    {
     "data": {
      "text/plain": [
       "pdays\n",
       "-1      25912\n",
       " 182      114\n",
       " 92        97\n",
       " 91        89\n",
       " 181       79\n",
       "        ...  \n",
       " 425        1\n",
       " 805        1\n",
       " 455        1\n",
       " 445        1\n",
       " 382        1\n",
       "Name: count, Length: 516, dtype: int64"
      ]
     },
     "execution_count": 13,
     "metadata": {},
     "output_type": "execute_result"
    }
   ],
   "source": [
    "X_train['pdays'].value_counts()"
   ]
  },
  {
   "cell_type": "code",
   "execution_count": 14,
   "metadata": {},
   "outputs": [
    {
     "data": {
      "text/plain": [
       "31647"
      ]
     },
     "execution_count": 14,
     "metadata": {},
     "output_type": "execute_result"
    }
   ],
   "source": [
    "# df['pdays'].value_counts()\n",
    "X_train['pdays'].count()"
   ]
  },
  {
   "cell_type": "code",
   "execution_count": 15,
   "metadata": {},
   "outputs": [
    {
     "data": {
      "text/plain": [
       "poutcome\n",
       "failure    3378\n",
       "other      1301\n",
       "success    1051\n",
       "Name: count, dtype: int64"
      ]
     },
     "execution_count": 15,
     "metadata": {},
     "output_type": "execute_result"
    }
   ],
   "source": [
    "X_train['poutcome'].value_counts()"
   ]
  },
  {
   "cell_type": "code",
   "execution_count": 16,
   "metadata": {},
   "outputs": [
    {
     "data": {
      "text/plain": [
       "41"
      ]
     },
     "execution_count": 16,
     "metadata": {},
     "output_type": "execute_result"
    }
   ],
   "source": [
    "X_train['previous'].nunique()"
   ]
  },
  {
   "cell_type": "markdown",
   "metadata": {},
   "source": [
    "### 기술통계를 통한 EDA"
   ]
  },
  {
   "cell_type": "code",
   "execution_count": 17,
   "metadata": {},
   "outputs": [
    {
     "data": {
      "text/html": [
       "<div>\n",
       "<style scoped>\n",
       "    .dataframe tbody tr th:only-of-type {\n",
       "        vertical-align: middle;\n",
       "    }\n",
       "\n",
       "    .dataframe tbody tr th {\n",
       "        vertical-align: top;\n",
       "    }\n",
       "\n",
       "    .dataframe thead th {\n",
       "        text-align: right;\n",
       "    }\n",
       "</style>\n",
       "<table border=\"1\" class=\"dataframe\">\n",
       "  <thead>\n",
       "    <tr style=\"text-align: right;\">\n",
       "      <th></th>\n",
       "      <th>Unnamed: 0</th>\n",
       "      <th>age</th>\n",
       "      <th>job</th>\n",
       "      <th>marital</th>\n",
       "      <th>education</th>\n",
       "      <th>default</th>\n",
       "      <th>balance</th>\n",
       "      <th>housing</th>\n",
       "      <th>loan</th>\n",
       "      <th>contact</th>\n",
       "      <th>day_of_week</th>\n",
       "      <th>month</th>\n",
       "      <th>duration</th>\n",
       "      <th>campaign</th>\n",
       "      <th>pdays</th>\n",
       "      <th>previous</th>\n",
       "      <th>poutcome</th>\n",
       "    </tr>\n",
       "  </thead>\n",
       "  <tbody>\n",
       "    <tr>\n",
       "      <th>count</th>\n",
       "      <td>31647.000000</td>\n",
       "      <td>31647.000000</td>\n",
       "      <td>31441</td>\n",
       "      <td>31647</td>\n",
       "      <td>30333</td>\n",
       "      <td>31647</td>\n",
       "      <td>31647.000000</td>\n",
       "      <td>31647</td>\n",
       "      <td>31647</td>\n",
       "      <td>22547</td>\n",
       "      <td>31647.000000</td>\n",
       "      <td>31647</td>\n",
       "      <td>31647.000000</td>\n",
       "      <td>31647.000000</td>\n",
       "      <td>31647.000000</td>\n",
       "      <td>31647.000000</td>\n",
       "      <td>5730</td>\n",
       "    </tr>\n",
       "    <tr>\n",
       "      <th>unique</th>\n",
       "      <td>NaN</td>\n",
       "      <td>NaN</td>\n",
       "      <td>11</td>\n",
       "      <td>3</td>\n",
       "      <td>3</td>\n",
       "      <td>2</td>\n",
       "      <td>NaN</td>\n",
       "      <td>2</td>\n",
       "      <td>2</td>\n",
       "      <td>2</td>\n",
       "      <td>NaN</td>\n",
       "      <td>12</td>\n",
       "      <td>NaN</td>\n",
       "      <td>NaN</td>\n",
       "      <td>NaN</td>\n",
       "      <td>NaN</td>\n",
       "      <td>3</td>\n",
       "    </tr>\n",
       "    <tr>\n",
       "      <th>top</th>\n",
       "      <td>NaN</td>\n",
       "      <td>NaN</td>\n",
       "      <td>blue-collar</td>\n",
       "      <td>married</td>\n",
       "      <td>secondary</td>\n",
       "      <td>no</td>\n",
       "      <td>NaN</td>\n",
       "      <td>yes</td>\n",
       "      <td>no</td>\n",
       "      <td>cellular</td>\n",
       "      <td>NaN</td>\n",
       "      <td>may</td>\n",
       "      <td>NaN</td>\n",
       "      <td>NaN</td>\n",
       "      <td>NaN</td>\n",
       "      <td>NaN</td>\n",
       "      <td>failure</td>\n",
       "    </tr>\n",
       "    <tr>\n",
       "      <th>freq</th>\n",
       "      <td>NaN</td>\n",
       "      <td>NaN</td>\n",
       "      <td>6866</td>\n",
       "      <td>19049</td>\n",
       "      <td>16201</td>\n",
       "      <td>31083</td>\n",
       "      <td>NaN</td>\n",
       "      <td>17625</td>\n",
       "      <td>26573</td>\n",
       "      <td>20517</td>\n",
       "      <td>NaN</td>\n",
       "      <td>9643</td>\n",
       "      <td>NaN</td>\n",
       "      <td>NaN</td>\n",
       "      <td>NaN</td>\n",
       "      <td>NaN</td>\n",
       "      <td>3378</td>\n",
       "    </tr>\n",
       "    <tr>\n",
       "      <th>mean</th>\n",
       "      <td>22602.388062</td>\n",
       "      <td>40.883022</td>\n",
       "      <td>NaN</td>\n",
       "      <td>NaN</td>\n",
       "      <td>NaN</td>\n",
       "      <td>NaN</td>\n",
       "      <td>1363.589535</td>\n",
       "      <td>NaN</td>\n",
       "      <td>NaN</td>\n",
       "      <td>NaN</td>\n",
       "      <td>15.806712</td>\n",
       "      <td>NaN</td>\n",
       "      <td>258.755143</td>\n",
       "      <td>2.760040</td>\n",
       "      <td>39.869498</td>\n",
       "      <td>0.584795</td>\n",
       "      <td>NaN</td>\n",
       "    </tr>\n",
       "    <tr>\n",
       "      <th>std</th>\n",
       "      <td>13044.705146</td>\n",
       "      <td>10.621809</td>\n",
       "      <td>NaN</td>\n",
       "      <td>NaN</td>\n",
       "      <td>NaN</td>\n",
       "      <td>NaN</td>\n",
       "      <td>3070.235315</td>\n",
       "      <td>NaN</td>\n",
       "      <td>NaN</td>\n",
       "      <td>NaN</td>\n",
       "      <td>8.331080</td>\n",
       "      <td>NaN</td>\n",
       "      <td>259.880162</td>\n",
       "      <td>3.104999</td>\n",
       "      <td>99.674113</td>\n",
       "      <td>2.490925</td>\n",
       "      <td>NaN</td>\n",
       "    </tr>\n",
       "    <tr>\n",
       "      <th>min</th>\n",
       "      <td>0.000000</td>\n",
       "      <td>18.000000</td>\n",
       "      <td>NaN</td>\n",
       "      <td>NaN</td>\n",
       "      <td>NaN</td>\n",
       "      <td>NaN</td>\n",
       "      <td>-8019.000000</td>\n",
       "      <td>NaN</td>\n",
       "      <td>NaN</td>\n",
       "      <td>NaN</td>\n",
       "      <td>1.000000</td>\n",
       "      <td>NaN</td>\n",
       "      <td>0.000000</td>\n",
       "      <td>1.000000</td>\n",
       "      <td>-1.000000</td>\n",
       "      <td>0.000000</td>\n",
       "      <td>NaN</td>\n",
       "    </tr>\n",
       "    <tr>\n",
       "      <th>25%</th>\n",
       "      <td>11303.500000</td>\n",
       "      <td>33.000000</td>\n",
       "      <td>NaN</td>\n",
       "      <td>NaN</td>\n",
       "      <td>NaN</td>\n",
       "      <td>NaN</td>\n",
       "      <td>74.000000</td>\n",
       "      <td>NaN</td>\n",
       "      <td>NaN</td>\n",
       "      <td>NaN</td>\n",
       "      <td>8.000000</td>\n",
       "      <td>NaN</td>\n",
       "      <td>103.000000</td>\n",
       "      <td>1.000000</td>\n",
       "      <td>-1.000000</td>\n",
       "      <td>0.000000</td>\n",
       "      <td>NaN</td>\n",
       "    </tr>\n",
       "    <tr>\n",
       "      <th>50%</th>\n",
       "      <td>22595.000000</td>\n",
       "      <td>39.000000</td>\n",
       "      <td>NaN</td>\n",
       "      <td>NaN</td>\n",
       "      <td>NaN</td>\n",
       "      <td>NaN</td>\n",
       "      <td>451.000000</td>\n",
       "      <td>NaN</td>\n",
       "      <td>NaN</td>\n",
       "      <td>NaN</td>\n",
       "      <td>16.000000</td>\n",
       "      <td>NaN</td>\n",
       "      <td>180.000000</td>\n",
       "      <td>2.000000</td>\n",
       "      <td>-1.000000</td>\n",
       "      <td>0.000000</td>\n",
       "      <td>NaN</td>\n",
       "    </tr>\n",
       "    <tr>\n",
       "      <th>75%</th>\n",
       "      <td>33911.500000</td>\n",
       "      <td>48.000000</td>\n",
       "      <td>NaN</td>\n",
       "      <td>NaN</td>\n",
       "      <td>NaN</td>\n",
       "      <td>NaN</td>\n",
       "      <td>1427.500000</td>\n",
       "      <td>NaN</td>\n",
       "      <td>NaN</td>\n",
       "      <td>NaN</td>\n",
       "      <td>21.000000</td>\n",
       "      <td>NaN</td>\n",
       "      <td>318.000000</td>\n",
       "      <td>3.000000</td>\n",
       "      <td>-1.000000</td>\n",
       "      <td>0.000000</td>\n",
       "      <td>NaN</td>\n",
       "    </tr>\n",
       "    <tr>\n",
       "      <th>max</th>\n",
       "      <td>45210.000000</td>\n",
       "      <td>95.000000</td>\n",
       "      <td>NaN</td>\n",
       "      <td>NaN</td>\n",
       "      <td>NaN</td>\n",
       "      <td>NaN</td>\n",
       "      <td>102127.000000</td>\n",
       "      <td>NaN</td>\n",
       "      <td>NaN</td>\n",
       "      <td>NaN</td>\n",
       "      <td>31.000000</td>\n",
       "      <td>NaN</td>\n",
       "      <td>4918.000000</td>\n",
       "      <td>63.000000</td>\n",
       "      <td>871.000000</td>\n",
       "      <td>275.000000</td>\n",
       "      <td>NaN</td>\n",
       "    </tr>\n",
       "  </tbody>\n",
       "</table>\n",
       "</div>"
      ],
      "text/plain": [
       "          Unnamed: 0           age          job  marital  education default  \\\n",
       "count   31647.000000  31647.000000        31441    31647      30333   31647   \n",
       "unique           NaN           NaN           11        3          3       2   \n",
       "top              NaN           NaN  blue-collar  married  secondary      no   \n",
       "freq             NaN           NaN         6866    19049      16201   31083   \n",
       "mean    22602.388062     40.883022          NaN      NaN        NaN     NaN   \n",
       "std     13044.705146     10.621809          NaN      NaN        NaN     NaN   \n",
       "min         0.000000     18.000000          NaN      NaN        NaN     NaN   \n",
       "25%     11303.500000     33.000000          NaN      NaN        NaN     NaN   \n",
       "50%     22595.000000     39.000000          NaN      NaN        NaN     NaN   \n",
       "75%     33911.500000     48.000000          NaN      NaN        NaN     NaN   \n",
       "max     45210.000000     95.000000          NaN      NaN        NaN     NaN   \n",
       "\n",
       "              balance housing   loan   contact   day_of_week  month  \\\n",
       "count    31647.000000   31647  31647     22547  31647.000000  31647   \n",
       "unique            NaN       2      2         2           NaN     12   \n",
       "top               NaN     yes     no  cellular           NaN    may   \n",
       "freq              NaN   17625  26573     20517           NaN   9643   \n",
       "mean      1363.589535     NaN    NaN       NaN     15.806712    NaN   \n",
       "std       3070.235315     NaN    NaN       NaN      8.331080    NaN   \n",
       "min      -8019.000000     NaN    NaN       NaN      1.000000    NaN   \n",
       "25%         74.000000     NaN    NaN       NaN      8.000000    NaN   \n",
       "50%        451.000000     NaN    NaN       NaN     16.000000    NaN   \n",
       "75%       1427.500000     NaN    NaN       NaN     21.000000    NaN   \n",
       "max     102127.000000     NaN    NaN       NaN     31.000000    NaN   \n",
       "\n",
       "            duration      campaign         pdays      previous poutcome  \n",
       "count   31647.000000  31647.000000  31647.000000  31647.000000     5730  \n",
       "unique           NaN           NaN           NaN           NaN        3  \n",
       "top              NaN           NaN           NaN           NaN  failure  \n",
       "freq             NaN           NaN           NaN           NaN     3378  \n",
       "mean      258.755143      2.760040     39.869498      0.584795      NaN  \n",
       "std       259.880162      3.104999     99.674113      2.490925      NaN  \n",
       "min         0.000000      1.000000     -1.000000      0.000000      NaN  \n",
       "25%       103.000000      1.000000     -1.000000      0.000000      NaN  \n",
       "50%       180.000000      2.000000     -1.000000      0.000000      NaN  \n",
       "75%       318.000000      3.000000     -1.000000      0.000000      NaN  \n",
       "max      4918.000000     63.000000    871.000000    275.000000      NaN  "
      ]
     },
     "execution_count": 17,
     "metadata": {},
     "output_type": "execute_result"
    }
   ],
   "source": [
    "X_train.describe(include = 'all')"
   ]
  },
  {
   "cell_type": "markdown",
   "metadata": {},
   "source": [
    "### 시각화를 통한 EDA"
   ]
  },
  {
   "cell_type": "markdown",
   "metadata": {},
   "source": [
    "#### 수치형 데이터 시각화"
   ]
  },
  {
   "cell_type": "code",
   "execution_count": 18,
   "metadata": {},
   "outputs": [
    {
     "data": {
      "text/plain": [
       "duration\n",
       "124     142\n",
       "89      135\n",
       "90      133\n",
       "104     130\n",
       "139     130\n",
       "       ... \n",
       "2219      1\n",
       "1294      1\n",
       "1665      1\n",
       "1489      1\n",
       "1191      1\n",
       "Name: count, Length: 1467, dtype: int64"
      ]
     },
     "execution_count": 18,
     "metadata": {},
     "output_type": "execute_result"
    }
   ],
   "source": [
    "X_train['duration'].value_counts() #확인해본 결과 저렇게 이상하게 나오는 건 맞는데 확인할 때 계산해준 값으로 쓰인 것들이 이상함"
   ]
  },
  {
   "cell_type": "code",
   "execution_count": 19,
   "metadata": {},
   "outputs": [
    {
     "data": {
      "text/plain": [
       "12294"
      ]
     },
     "execution_count": 19,
     "metadata": {},
     "output_type": "execute_result"
    }
   ],
   "source": [
    "# print(X_train['campaign'].max(),X_train['campaign'].min())\n",
    "X_train['campaign'].value_counts().max()"
   ]
  },
  {
   "cell_type": "code",
   "execution_count": 20,
   "metadata": {},
   "outputs": [
    {
     "name": "stdout",
     "output_type": "stream",
     "text": [
      "age  :  77\n",
      "day_of_week  :  31\n",
      "previous  :  41\n",
      "balance  :  6255\n",
      "duration  :  1467\n",
      "campaign  :  47\n"
     ]
    }
   ],
   "source": [
    "for check_col in ['age', 'day_of_week', 'previous', 'balance', 'duration', 'campaign']:\n",
    "    print(check_col, \" : \", len(set(X_train[check_col])))"
   ]
  },
  {
   "cell_type": "code",
   "execution_count": 28,
   "metadata": {},
   "outputs": [
    {
     "name": "stdout",
     "output_type": "stream",
     "text": [
      "age 의 최대, 최소값 :  95 18\n",
      "day_of_week 의 최대, 최소값 :  31 1\n",
      "previous 의 최대, 최소값 :  275 0\n",
      "balance 의 최대, 최소값 :  102127 -8019\n",
      "duration 의 최대, 최소값 :  4918 0\n",
      "campaign 의 최대, 최소값 :  63 1\n",
      "\n",
      "\n",
      "age 의 전체범위는  77\n",
      "age 의 q1과 q3는  33.0 48.0\n",
      "age 의 IQR은  15.0\n",
      "age 의 N은  31647\n",
      "age 의 distinct_n은  77\n",
      "age 의 평균은  40.88302208740165\n",
      "age 의 표준편차는  10.62180867645002\n",
      "age 의 변동계수는  0.25980977271548605\n",
      "age 의 왜도는  0.6971867836177476\n",
      "age 의 bin너비는  0.948441187696314\n",
      "age 의 bin갯수는  81.18584578452007 \n",
      "\n",
      "day_of_week 의 전체범위는  30\n",
      "day_of_week 의 q1과 q3는  8.0 21.0\n",
      "day_of_week 의 IQR은  13.0\n",
      "day_of_week 의 N은  31647\n",
      "day_of_week 의 distinct_n은  31\n",
      "day_of_week 의 평균은  15.806711536638543\n",
      "day_of_week 의 표준편차는  8.33108016690778\n",
      "day_of_week 의 변동계수는  0.5270596700393425\n",
      "day_of_week 의 왜도는  0.09386807837918064\n",
      "day_of_week 의 bin너비는  0.8219823626701388\n",
      "day_of_week 의 bin갯수는  36.49713346956447 \n",
      "\n",
      "previous 의 전체범위는  275\n",
      "previous 의 q1과 q3는  0.0 0.0\n",
      "previous 의 IQR은  0.0\n",
      "previous 의 N은  31647\n",
      "previous 의 distinct_n은  41\n",
      "previous 의 평균은  0.5847947672765191\n",
      "previous 의 표준편차는  2.4909252173465317\n",
      "previous 의 변동계수는  4.259486159472939\n",
      "previous 의 왜도는  46.24523497393697\n",
      "previous 의 bin너비는  0.0\n",
      "previous 의 bin갯수는  inf \n",
      "\n",
      "balance 의 전체범위는  110146\n",
      "balance 의 q1과 q3는  74.0 1427.5\n",
      "balance 의 IQR은  1353.5\n",
      "balance 의 N은  31647\n",
      "balance 의 distinct_n은  6255\n",
      "balance 의 평균은  1363.5895345530382\n",
      "balance 의 표준편차는  3070.2353150503627\n",
      "balance 의 변동계수는  2.251583220060965\n",
      "balance 의 왜도는  8.481048802332174\n",
      "balance 의 bin너비는  85.58100983646406\n",
      "balance 의 bin갯수는  1287.037862844537 \n",
      "\n",
      "duration 의 전체범위는  4918\n",
      "duration 의 q1과 q3는  103.0 318.0\n",
      "duration 의 IQR은  215.0\n",
      "duration 의 N은  31647\n",
      "duration 의 distinct_n은  1467\n",
      "duration 의 평균은  258.7551426675514\n",
      "duration 의 표준편차는  259.8801622230412\n",
      "duration 의 변동계수는  1.0043478152507108\n",
      "duration 의 왜도는  3.235614480877128\n",
      "duration 의 bin너비는  13.594323690313834\n",
      "duration 의 bin갯수는  361.7686405028116 \n",
      "\n",
      "campaign 의 전체범위는  62\n",
      "campaign 의 q1과 q3는  1.0 3.0\n",
      "campaign 의 IQR은  2.0\n",
      "campaign 의 N은  31647\n",
      "campaign 의 distinct_n은  47\n",
      "campaign 의 평균은  2.760040446171833\n",
      "campaign 의 표준편차는  3.1049993384862264\n",
      "campaign 의 변동계수는  1.124983274354856\n",
      "campaign 의 왜도는  5.010802404010123\n",
      "campaign 의 bin너비는  0.1264588250261752\n",
      "campaign 의 bin갯수는  490.278159607816 \n",
      "\n",
      "pdays 의 전체범위는  872\n",
      "pdays 의 q1과 q3는  -1.0 -1.0\n",
      "pdays 의 IQR은  0.0\n",
      "pdays 의 N은  31647\n",
      "pdays 의 distinct_n은  516\n",
      "pdays 의 평균은  39.86949789869498\n",
      "pdays 의 표준편차는  99.67411270636347\n",
      "pdays 의 변동계수는  2.5000092291010776\n",
      "pdays 의 왜도는  2.6156038646510362\n",
      "pdays 의 bin너비는  0.0\n",
      "pdays 의 bin갯수는  inf \n",
      "\n",
      "age 의 bin갯수는  81.18584578452007\n",
      "day_of_week 의 bin갯수는  36.49713346956447\n",
      "previous 의 bin갯수는  inf\n",
      "balance 의 bin갯수는  1287.037862844537\n",
      "duration 의 bin갯수는  361.7686405028116\n",
      "campaign 의 bin갯수는  490.278159607816\n",
      "pdays 의 bin갯수는  inf\n"
     ]
    },
    {
     "name": "stderr",
     "output_type": "stream",
     "text": [
      "C:\\Users\\kssg1\\AppData\\Local\\Temp\\ipykernel_33284\\3704664215.py:29: RuntimeWarning: divide by zero encountered in scalar divide\n",
      "  num_bin = entire_range / bin_width\n",
      "C:\\Users\\kssg1\\AppData\\Local\\Temp\\ipykernel_33284\\3704664215.py:50: RuntimeWarning: divide by zero encountered in scalar divide\n",
      "  num_bin = entire_range / bin_width\n"
     ]
    }
   ],
   "source": [
    "# 그래프 bin관련 파악 부분\n",
    "'''\n",
    "bin갯수 결정 알고리즘 : https://chat.openai.com/share/af07e311-7aa3-45fa-980e-ee69c2eb84c6\n",
    "Freedman-Diaconis' Choice방식 사용\n",
    "데이터의 분포를 고려하여 bin의 폭을 결정한 후에 전체 데이터 범위를 그 폭으로 나누어 bin의 갯수를 계산\n",
    "전체 데이터 범위는 그냥 최대값 - 최솟값으로 구한다고 한다 따라서 .max()-.min()을 해주면 될듯하다\n",
    "bin의 폭(bin width)은 2*(IQR/N**(1/3))으로 구하고\n",
    "IQR은 Q3 - Q1으로 Q3와 Q1는 np.percentile(data, 75)와 np.percentile(data, 25)로 구할 수 있다\n",
    "N은 데이터의 샘플 갯수로 왜인지는 모르겠지만 중복을 포함하여 총 데이터 값의 갯수라고 한다 .count()를 쓰면 될듯하다\n",
    "\n",
    "'''\n",
    "for check_col in ['age', 'day_of_week', 'previous', 'balance', 'duration', 'campaign']:\n",
    "    print(check_col, \"의 최대, 최소값 : \", X_train[check_col].max(), X_train[check_col].min())\n",
    "    \n",
    "print('\\n')\n",
    "\n",
    "for check_col in ['age', 'day_of_week', 'previous', 'balance', 'duration', 'campaign', 'pdays']:\n",
    "    entire_range = X_train[check_col].max() - X_train[check_col].min()\n",
    "    q1 = np.percentile(X_train[check_col], 25)\n",
    "    q3 = np.percentile(X_train[check_col], 75)\n",
    "    IQR = q3 - q1\n",
    "    N = X_train[check_col].count()\n",
    "    distinct_n = X_train[check_col].nunique()\n",
    "    mean = X_train[check_col].mean()\n",
    "    std = X_train[check_col].std()\n",
    "    cv = X_train[check_col].std() / X_train[check_col].mean() #변동계수라는 값이라고 한다\n",
    "    skew = X_train[check_col].skew() #왜도\n",
    "    bin_width = 2 * (IQR / N**(1/3))\n",
    "    num_bin = entire_range / bin_width\n",
    "    print(check_col, \"의 전체범위는 \", entire_range)\n",
    "    print(check_col, \"의 q1과 q3는 \", q1, q3)\n",
    "    print(check_col, \"의 IQR은 \", IQR)\n",
    "    print(check_col, \"의 N은 \", N)\n",
    "    print(check_col, \"의 distinct_n은 \", distinct_n)\n",
    "    print(check_col, \"의 평균은 \", mean)\n",
    "    print(check_col, \"의 표준편차는 \", std)\n",
    "    print(check_col, \"의 변동계수는 \", cv)\n",
    "    print(check_col, \"의 왜도는 \", skew)\n",
    "    print(check_col, \"의 bin너비는 \", bin_width)\n",
    "    print(check_col, \"의 bin갯수는 \", num_bin,'\\n')\n",
    "    \n",
    "for check_col in ['age', 'day_of_week', 'previous', 'balance', 'duration', 'campaign', 'pdays']:\n",
    "    entire_range = X_train[check_col].max() - X_train[check_col].min()\n",
    "    q1 = np.percentile(X_train[check_col], 25)\n",
    "    q3 = np.percentile(X_train[check_col], 75)\n",
    "    IQR = q3 - q1\n",
    "    N = X_train[check_col].count()\n",
    "    distinct_n = X_train[check_col].nunique()\n",
    "    bin_width = 2 * (IQR / N**(1/3))\n",
    "    num_bin = entire_range / bin_width\n",
    "    print(check_col, \"의 bin갯수는 \", num_bin)"
   ]
  },
  {
   "cell_type": "code",
   "execution_count": 34,
   "metadata": {},
   "outputs": [
    {
     "name": "stdout",
     "output_type": "stream",
     "text": [
      "age 의 bin :  81.18584578452007\n",
      "balance 의 bin :  1287.037862844537\n",
      "day_of_week 의 bin :  36.49713346956447\n",
      "duration 의 bin :  361.7686405028116\n",
      "campaign 의 bin :  490.278159607816\n"
     ]
    },
    {
     "name": "stderr",
     "output_type": "stream",
     "text": [
      "C:\\Users\\kssg1\\AppData\\Local\\Temp\\ipykernel_33284\\1283592472.py:29: RuntimeWarning: divide by zero encountered in scalar divide\n",
      "  num_bin = entire_range / bin_width\n"
     ]
    },
    {
     "name": "stdout",
     "output_type": "stream",
     "text": [
      "pdays 의 bin :  inf\n",
      "previous 의 bin :  inf\n"
     ]
    },
    {
     "data": {
      "image/png": "[encoded data removed]",
      "text/plain": [
       "<Figure size 1500x1500 with 9 Axes>"
      ]
     },
     "metadata": {},
     "output_type": "display_data"
    }
   ],
   "source": [
    "from matplotlib.ticker import MultipleLocator\n",
    "import math\n",
    "#수치형 변수 시각화\n",
    "def get_3_hist(data:pd.DataFrame, columns:list, log_scale_threshold: float = 5000, num_bin_max: int = 300 ):\n",
    "    \"\"\" 데이터와 컬럼을 전달하면 히스토그램을 3개씩 출력해주는 함수\n",
    "\n",
    "    Args:\n",
    "        data (pd.DataFrame): 데이터프레임\n",
    "        columns (list): 컬럼 리스트\n",
    "        bar_width_ratio(float): 원하는 비율로 설정 (예시로 0.005 사용)\n",
    "    \"\"\"\n",
    "    num_plots = len(columns)\n",
    "    num_rows = (num_plots + 2) // 3  # 서브플롯의 행 수 계산\n",
    "    num_cols = min(num_plots, 3)  # 서브플롯의 열 수 계산\n",
    "    \n",
    "    fig, axes = plt.subplots(num_rows, num_cols, figsize=(15, 5 * num_rows))\n",
    "    \n",
    "    for i, col in enumerate(columns):\n",
    "        row_idx, col_idx = divmod(i, 3)\n",
    "        axes[row_idx, col_idx].clear()\n",
    "        \n",
    "        # Freedman-Diaconis' Choice방식으로 bin 갯수 얼추 계산해본 뒤 판단\n",
    "        entire_range = X_train[col].max() - X_train[col].min() # 데이터 값 최대와 최소 차이\n",
    "        q1 = np.percentile(X_train[col], 25)\n",
    "        q3 = np.percentile(X_train[col], 75)\n",
    "        IQR = q3 - q1\n",
    "        N = X_train[col].count()\n",
    "        bin_width = 2 * (IQR / N**(1/3))\n",
    "        num_bin = entire_range / bin_width\n",
    "        # print(col, \"의 bin : \", num_bin) # 점검용\n",
    "        if (not math.isinf(num_bin)) and num_bin > num_bin_max:\n",
    "            n_bins = 80\n",
    "        else:\n",
    "            n_bins = 'auto'\n",
    "        \n",
    "        # # Wand 규칙을 사용하여 동적으로 bin의 개수 설정\n",
    "        # if bar_width_ratio < bar_width_ratio_min:  # 전체 스케일에 대한 막대 두께의 비율이 너무 작으면\n",
    "        #     n_bins = int(np.sqrt(len(set(data[col])))*1.0) \n",
    "        #     # 조금더 줄이면 깔끔히 잘보이지 않을까해서 0.8곱했다가 별차이없는듯해서 1.0으로 원 위치(원래 곱해진 것 따로 없었음)\n",
    "        # else:\n",
    "        #     n_bins = 'auto'\n",
    "        \n",
    "        hist, bins, _ = axes[row_idx, col_idx].hist(data[col], bins=n_bins, color='blue', edgecolor='blue', linewidth=0.2, alpha=0.7)\n",
    "        num_bin_actual = len(bins) - 1  # 실제로 그려진 막대의 갯수\n",
    "        #sns.histplot(data[col], ax=axes[row_idx, col_idx], bins=n_bins, color='blue', edgecolor='blue', linewidth=0.2, alpha=0.7, kde=False)\n",
    "        \n",
    "        axes[row_idx, col_idx].set_title(col)\n",
    "        axes[row_idx, col_idx].tick_params(axis='both', which='both', direction='out', length=6, width=0.5)  # 눈금 표시\n",
    "        \n",
    "        bar_heights = [rect.get_height() for rect in axes[row_idx, col_idx].patches]\n",
    "        max_height = max(bar_heights)\n",
    "        min_height = max(min(bar_heights),1)\n",
    "        \n",
    "        # print(col, \" 높이차는 이러함 : \", max_height / min_height, max_height, min_height) # 점검용\n",
    "        # print(col, \" bin : \", num_bin_actual) # 점검용\n",
    "        \n",
    "        # 히스토그램 바의 높이 차이에 따라 리니어 스케일 또는 로그 스케일 선택\n",
    "        if (max_height / min_height) > log_scale_threshold:\n",
    "            axes[row_idx, col_idx].set_yscale('log')  # 로그 스케일로 변환\n",
    "        else:\n",
    "            axes[row_idx, col_idx].set_yscale('linear')  # 리니어 스케일로 유지\n",
    "        \n",
    "        # 전체 그래프 스케일에 대한 막대 자체의 두께 비율 계산\n",
    "        total_width = axes[row_idx, col_idx].get_xlim()[1] - axes[row_idx, col_idx].get_xlim()[0]\n",
    "        \n",
    "        \n",
    "        \n",
    "        # 히스토그램 바의 두께가 조건에 따라 테두리 색 설정\n",
    "        for rect in axes[row_idx, col_idx].patches:\n",
    "            bar_width = rect.get_width()\n",
    "            if bar_width / total_width > 0.005: # 그냥 저쯤보다 얇은 경우 테두리 없는게 나은듯해서 설정해줌\n",
    "                rect.set_edgecolor('black')\n",
    "            else:\n",
    "                rect.set_edgecolor('none')  # 얇은 경우에는 테두리 없애기\n",
    "        \n",
    "        # # Seaborn axis 객체로부터 눈금 위치 확인\n",
    "        # tick_locs = sns.histplot(data[col]).axes.get_xticks()\n",
    "        # print(f\"{col}의 현재 x 축 눈금 위치: {tick_locs}\")\n",
    "\n",
    "    # 남은 서브플롯에 빈 그래프 그리기\n",
    "    for i in range(num_plots, num_rows * num_cols):\n",
    "        row_idx, col_idx = divmod(i, 3)\n",
    "        axes[row_idx, col_idx].clear()  # 남은 서브플롯 비우기\n",
    "        axes[row_idx, col_idx].axis('off')  # 빈 서브플롯 제거\n",
    "        \n",
    "    \n",
    "\n",
    "    # 전체 그림 표시\n",
    "    plt.tight_layout()\n",
    "    plt.show()\n",
    "get_3_hist(X_train, numeric_col)"
   ]
  },
  {
   "cell_type": "markdown",
   "metadata": {},
   "source": [
    "여기부분 label 두번씩 나오는데 이거 확인하고 수정하기 ->어케 수정한지 자세히는 기억안나는데 어떻게든 일단 수정했고  \n",
    "그리고 campaign 얘 먼데 그렇게 그래프 보기 힘들게 안나올만한 갯수들과 값차이 들인데 이상하게 나오는게 이상해서 데이터 살펴봐야할듯"
   ]
  },
  {
   "cell_type": "markdown",
   "metadata": {},
   "source": [
    "수치형 시각화 판단 결과\n",
    "이상치가 많아서 left skewness 발생한 경우 :log scale"
   ]
  },
  {
   "cell_type": "markdown",
   "metadata": {},
   "source": [
    "# 3. 데이터 전처리"
   ]
  },
  {
   "cell_type": "markdown",
   "metadata": {},
   "source": [
    "## 문제2: Y 변수 인코딩 적용하기"
   ]
  },
  {
   "cell_type": "code",
   "execution_count": null,
   "metadata": {},
   "outputs": [],
   "source": []
  },
  {
   "cell_type": "markdown",
   "metadata": {},
   "source": [
    "# 4. 모델 수립"
   ]
  },
  {
   "cell_type": "code",
   "execution_count": null,
   "metadata": {},
   "outputs": [],
   "source": []
  },
  {
   "cell_type": "markdown",
   "metadata": {},
   "source": [
    "# 5. 평가"
   ]
  },
  {
   "cell_type": "code",
   "execution_count": null,
   "metadata": {},
   "outputs": [],
   "source": []
  }
 ],
 "metadata": {
  "kernelspec": {
   "display_name": "Python 3",
   "language": "python",
   "name": "python3"
  },
  "language_info": {
   "codemirror_mode": {
    "name": "ipython",
    "version": 3
   },
   "file_extension": ".py",
   "mimetype": "text/x-python",
   "name": "python",
   "nbconvert_exporter": "python",
   "pygments_lexer": "ipython3",
   "version": "3.8.6"
  }
 },
 "nbformat": 4,
 "nbformat_minor": 2
}
